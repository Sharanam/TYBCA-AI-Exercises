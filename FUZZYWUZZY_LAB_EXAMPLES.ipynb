{
  "nbformat": 4,
  "nbformat_minor": 0,
  "metadata": {
    "colab": {
      "name": "FUZZYWUZZY LAB EXAMPLES.ipynb",
      "provenance": []
    },
    "kernelspec": {
      "name": "python3",
      "display_name": "Python 3"
    }
  },
  "cells": [
    {
      "cell_type": "code",
      "metadata": {
        "id": "N3nfDnd_EYVA",
        "outputId": "07051825-b327-4a96-bb89-47a1be1bbf20",
        "colab": {
          "base_uri": "https://localhost:8080/"
        }
      },
      "source": [
        "!pip install fuzzywuzzy\n",
        "!pip install python-Levenshtein"
      ],
      "execution_count": 1,
      "outputs": [
        {
          "output_type": "stream",
          "text": [
            "Collecting fuzzywuzzy\n",
            "  Downloading https://files.pythonhosted.org/packages/43/ff/74f23998ad2f93b945c0309f825be92e04e0348e062026998b5eefef4c33/fuzzywuzzy-0.18.0-py2.py3-none-any.whl\n",
            "Installing collected packages: fuzzywuzzy\n",
            "Successfully installed fuzzywuzzy-0.18.0\n",
            "Collecting python-Levenshtein\n",
            "\u001b[?25l  Downloading https://files.pythonhosted.org/packages/42/a9/d1785c85ebf9b7dfacd08938dd028209c34a0ea3b1bcdb895208bd40a67d/python-Levenshtein-0.12.0.tar.gz (48kB)\n",
            "\u001b[K     |████████████████████████████████| 51kB 1.5MB/s \n",
            "\u001b[?25hRequirement already satisfied: setuptools in /usr/local/lib/python3.6/dist-packages (from python-Levenshtein) (50.3.0)\n",
            "Building wheels for collected packages: python-Levenshtein\n",
            "  Building wheel for python-Levenshtein (setup.py) ... \u001b[?25l\u001b[?25hdone\n",
            "  Created wheel for python-Levenshtein: filename=python_Levenshtein-0.12.0-cp36-cp36m-linux_x86_64.whl size=144790 sha256=886abd563f5a4236c5929b842fc153aee2be5aaa463249f73299d9800ff91b93\n",
            "  Stored in directory: /root/.cache/pip/wheels/de/c2/93/660fd5f7559049268ad2dc6d81c4e39e9e36518766eaf7e342\n",
            "Successfully built python-Levenshtein\n",
            "Installing collected packages: python-Levenshtein\n",
            "Successfully installed python-Levenshtein-0.12.0\n"
          ],
          "name": "stdout"
        }
      ]
    },
    {
      "cell_type": "code",
      "metadata": {
        "id": "WE7QY-8pEg9Y"
      },
      "source": [
        "from fuzzywuzzy import fuzz, process"
      ],
      "execution_count": 2,
      "outputs": []
    },
    {
      "cell_type": "code",
      "metadata": {
        "id": "AAKxPmhfEobI",
        "outputId": "b0229a21-b6bc-408b-a6d7-469a44306546",
        "colab": {
          "base_uri": "https://localhost:8080/"
        }
      },
      "source": [
        "fuzz.ratio('geeksforgeeks', 'geeksgeeks')"
      ],
      "execution_count": 3,
      "outputs": [
        {
          "output_type": "execute_result",
          "data": {
            "text/plain": [
              "87"
            ]
          },
          "metadata": {
            "tags": []
          },
          "execution_count": 3
        }
      ]
    },
    {
      "cell_type": "code",
      "metadata": {
        "id": "XeUIUPa0Ermp",
        "outputId": "068198bb-ed42-4a7b-e0a4-f57339b194f2",
        "colab": {
          "base_uri": "https://localhost:8080/"
        }
      },
      "source": [
        "#100 on Exact match\n",
        "fuzz.ratio('GeeksforGeeks', 'GeeksforGeeks')"
      ],
      "execution_count": 4,
      "outputs": [
        {
          "output_type": "execute_result",
          "data": {
            "text/plain": [
              "100"
            ]
          },
          "metadata": {
            "tags": []
          },
          "execution_count": 4
        }
      ]
    },
    {
      "cell_type": "code",
      "metadata": {
        "id": "TvadK6GQEwus",
        "outputId": "404ec7b0-89ec-4dbb-84cb-c1b1e395adee",
        "colab": {
          "base_uri": "https://localhost:8080/"
        }
      },
      "source": [
        "#This is not exact match ;)\n",
        "fuzz.ratio('geeks for geeks', 'Geeks For Geeks ')"
      ],
      "execution_count": 5,
      "outputs": [
        {
          "output_type": "execute_result",
          "data": {
            "text/plain": [
              "77"
            ]
          },
          "metadata": {
            "tags": []
          },
          "execution_count": 5
        }
      ]
    },
    {
      "cell_type": "code",
      "metadata": {
        "id": "5Ypg0btpFBv2",
        "outputId": "af755d5f-1613-4d35-9aa9-be3b60653fd0",
        "colab": {
          "base_uri": "https://localhost:8080/"
        }
      },
      "source": [
        "# Exclamation mark will be ignored in partial_ratio_match\n",
        "fuzz.partial_ratio(\"geeks for geeks\", \"geeks for geeks!\")"
      ],
      "execution_count": 6,
      "outputs": [
        {
          "output_type": "execute_result",
          "data": {
            "text/plain": [
              "100"
            ]
          },
          "metadata": {
            "tags": []
          },
          "execution_count": 6
        }
      ]
    },
    {
      "cell_type": "code",
      "metadata": {
        "id": "ChhDDCKvFOvY",
        "outputId": "2fa58bb1-dd40-4d04-8a59-50262dcef8af",
        "colab": {
          "base_uri": "https://localhost:8080/"
        }
      },
      "source": [
        "#another example of partial ratio to understand whole thing\n",
        "fuzz.partial_ratio(\"geeks for geeks\", \"geeks geeks\")"
      ],
      "execution_count": 7,
      "outputs": [
        {
          "output_type": "execute_result",
          "data": {
            "text/plain": [
              "64"
            ]
          },
          "metadata": {
            "tags": []
          },
          "execution_count": 7
        }
      ]
    },
    {
      "cell_type": "code",
      "metadata": {
        "id": "o3SLnZuOFVgu",
        "outputId": "7e8f5944-87c0-433a-9781-189a263b4ba8",
        "colab": {
          "base_uri": "https://localhost:8080/"
        }
      },
      "source": [
        "# This will sort and compare strings,\n",
        "# even words are not in same orders, words must be there into string\n",
        "fuzz.token_sort_ratio(\"geeks for geeks\", \"for geeks geeks\")"
      ],
      "execution_count": 8,
      "outputs": [
        {
          "output_type": "execute_result",
          "data": {
            "text/plain": [
              "100"
            ]
          },
          "metadata": {
            "tags": []
          },
          "execution_count": 8
        }
      ]
    },
    {
      "cell_type": "code",
      "metadata": {
        "id": "63IBAszwFlGj",
        "outputId": "0b447f29-2483-4764-beb1-5d1a2a11755b",
        "colab": {
          "base_uri": "https://localhost:8080/"
        }
      },
      "source": [
        "# Number of words matters in sort ratio\n",
        "fuzz.token_sort_ratio(\"geeks for geeks\", \"geeks for for geeks\") "
      ],
      "execution_count": 9,
      "outputs": [
        {
          "output_type": "execute_result",
          "data": {
            "text/plain": [
              "88"
            ]
          },
          "metadata": {
            "tags": []
          },
          "execution_count": 9
        }
      ]
    },
    {
      "cell_type": "code",
      "metadata": {
        "id": "wVG06I_1F9d2",
        "outputId": "c83597a9-30fa-41dc-a1f9-6d02f16c0422",
        "colab": {
          "base_uri": "https://localhost:8080/"
        }
      },
      "source": [
        "# but not in set\n",
        "# set will take every words uniquely to process.\n",
        "fuzz.token_set_ratio(\"geeks for geeks\", \"geeks for for geeks\")"
      ],
      "execution_count": 10,
      "outputs": [
        {
          "output_type": "execute_result",
          "data": {
            "text/plain": [
              "100"
            ]
          },
          "metadata": {
            "tags": []
          },
          "execution_count": 10
        }
      ]
    },
    {
      "cell_type": "code",
      "metadata": {
        "id": "kaQSs0KlF-nJ"
      },
      "source": [
        "input = 'geeks for geeks'\n",
        "choices = ['geek for geek', 'geek geek', 'g. for geeks']"
      ],
      "execution_count": 11,
      "outputs": []
    },
    {
      "cell_type": "code",
      "metadata": {
        "id": "44mmOfzEGLsR",
        "outputId": "b394015e-420a-45b5-8c27-4337403486cf",
        "colab": {
          "base_uri": "https://localhost:8080/"
        }
      },
      "source": [
        "process.extract(input, choices)"
      ],
      "execution_count": 13,
      "outputs": [
        {
          "output_type": "execute_result",
          "data": {
            "text/plain": [
              "[('g. for geeks', 95), ('geek for geek', 93), ('geek geek', 86)]"
            ]
          },
          "metadata": {
            "tags": []
          },
          "execution_count": 13
        }
      ]
    },
    {
      "cell_type": "code",
      "metadata": {
        "id": "t_Cpqw6zGPsZ",
        "outputId": "e25855b6-4b48-4c33-b4c2-88268beb9e05",
        "colab": {
          "base_uri": "https://localhost:8080/"
        }
      },
      "source": [
        "process.extractOne(input, choices)"
      ],
      "execution_count": 14,
      "outputs": [
        {
          "output_type": "execute_result",
          "data": {
            "text/plain": [
              "('g. for geeks', 95)"
            ]
          },
          "metadata": {
            "tags": []
          },
          "execution_count": 14
        }
      ]
    },
    {
      "cell_type": "code",
      "metadata": {
        "id": "QEbytWEtGcW0",
        "outputId": "f92cddf8-fa3d-416d-d5ec-c6389b13be39",
        "colab": {
          "base_uri": "https://localhost:8080/"
        }
      },
      "source": [
        "fuzz.WRatio('geeks for geeks', 'Geeks For Geeks')"
      ],
      "execution_count": 15,
      "outputs": [
        {
          "output_type": "execute_result",
          "data": {
            "text/plain": [
              "100"
            ]
          },
          "metadata": {
            "tags": []
          },
          "execution_count": 15
        }
      ]
    },
    {
      "cell_type": "code",
      "metadata": {
        "id": "MIPq2oLpGqnQ",
        "outputId": "6c3b932b-5504-472c-bced-ea0e44fe7287",
        "colab": {
          "base_uri": "https://localhost:8080/"
        }
      },
      "source": [
        "fuzz.WRatio('geeks for geeks!!!','geeks for geeks')"
      ],
      "execution_count": 16,
      "outputs": [
        {
          "output_type": "execute_result",
          "data": {
            "text/plain": [
              "100"
            ]
          },
          "metadata": {
            "tags": []
          },
          "execution_count": 16
        }
      ]
    },
    {
      "cell_type": "code",
      "metadata": {
        "id": "Ip-N2jqsGsK0"
      },
      "source": [
        "s1 = \"I love GeeksforGeeks\"\n",
        "s2 = \"I am loving GeeksforGeeks\""
      ],
      "execution_count": 17,
      "outputs": []
    },
    {
      "cell_type": "code",
      "metadata": {
        "id": "9alQ9XLwG7z8",
        "outputId": "b0c39e37-ab6c-4135-ba1d-fd8772a52717",
        "colab": {
          "base_uri": "https://localhost:8080/"
        }
      },
      "source": [
        "\"FuzzyWuzzy Ratio: \", fuzz.ratio(s1, s2)"
      ],
      "execution_count": 18,
      "outputs": [
        {
          "output_type": "execute_result",
          "data": {
            "text/plain": [
              "('FuzzyWuzzy Ratio: ', 84)"
            ]
          },
          "metadata": {
            "tags": []
          },
          "execution_count": 18
        }
      ]
    },
    {
      "cell_type": "code",
      "metadata": {
        "id": "4r8Uh0ePG95j",
        "outputId": "4fdff4ab-8e6c-4654-cdf5-4c300fd95c48",
        "colab": {
          "base_uri": "https://localhost:8080/"
        }
      },
      "source": [
        "\"FuzzyWuzzy PartialRatio: \", fuzz.partial_ratio(s1, s2)"
      ],
      "execution_count": 19,
      "outputs": [
        {
          "output_type": "execute_result",
          "data": {
            "text/plain": [
              "('FuzzyWuzzy PartialRatio: ', 85)"
            ]
          },
          "metadata": {
            "tags": []
          },
          "execution_count": 19
        }
      ]
    },
    {
      "cell_type": "code",
      "metadata": {
        "id": "4wf8tWUBHBCz",
        "outputId": "885fbea6-72b4-429d-8078-66e63b790922",
        "colab": {
          "base_uri": "https://localhost:8080/"
        }
      },
      "source": [
        "\"FuzzyWuzzy TokenSortRatio: \", fuzz.token_sort_ratio(s1, s2)"
      ],
      "execution_count": 20,
      "outputs": [
        {
          "output_type": "execute_result",
          "data": {
            "text/plain": [
              "('FuzzyWuzzy TokenSortRatio: ', 84)"
            ]
          },
          "metadata": {
            "tags": []
          },
          "execution_count": 20
        }
      ]
    },
    {
      "cell_type": "code",
      "metadata": {
        "id": "bSRxNtAbHC8_",
        "outputId": "d32f16bb-e2bb-4fbb-ce72-00d368427d58",
        "colab": {
          "base_uri": "https://localhost:8080/"
        }
      },
      "source": [
        "\"FuzzyWuzzy TokenSetRatio: \", fuzz.token_set_ratio(s1, s2)"
      ],
      "execution_count": 21,
      "outputs": [
        {
          "output_type": "execute_result",
          "data": {
            "text/plain": [
              "('FuzzyWuzzy TokenSetRatio: ', 86)"
            ]
          },
          "metadata": {
            "tags": []
          },
          "execution_count": 21
        }
      ]
    },
    {
      "cell_type": "code",
      "metadata": {
        "id": "ZiiDmOefHEvd",
        "outputId": "55666b9c-4070-41be-ed7e-b3b5d7d55011",
        "colab": {
          "base_uri": "https://localhost:8080/"
        }
      },
      "source": [
        "\"FuzzyWuzzy WRatio: \", fuzz.WRatio(s1, s2)"
      ],
      "execution_count": 22,
      "outputs": [
        {
          "output_type": "execute_result",
          "data": {
            "text/plain": [
              "('FuzzyWuzzy WRatio: ', 84)"
            ]
          },
          "metadata": {
            "tags": []
          },
          "execution_count": 22
        }
      ]
    },
    {
      "cell_type": "code",
      "metadata": {
        "id": "MLKwshBrHHCQ",
        "outputId": "888125ff-d32e-454d-c2b8-b8a95fa9f68b",
        "colab": {
          "base_uri": "https://localhost:8080/"
        }
      },
      "source": [
        "\"Best among the above list: \",process.extractOne(\"Sharanam is alive\", [\"Sharanam is live\", \"Shranama is alive\", \"shRnam is alive\"])"
      ],
      "execution_count": 23,
      "outputs": [
        {
          "output_type": "execute_result",
          "data": {
            "text/plain": [
              "('Best among the above list: ', ('Sharanam is live', 97))"
            ]
          },
          "metadata": {
            "tags": []
          },
          "execution_count": 23
        }
      ]
    },
    {
      "cell_type": "code",
      "metadata": {
        "id": "XpNuNQRMHX9l",
        "outputId": "f07429e9-841d-4868-c44c-817cced8f830",
        "colab": {
          "base_uri": "https://localhost:8080/"
        }
      },
      "source": [
        "process.extractOne(\"apple inc\",[\"Apple Inc.\",\"apple park\",\"apple incorporated\",\"iphone\"])"
      ],
      "execution_count": 24,
      "outputs": [
        {
          "output_type": "execute_result",
          "data": {
            "text/plain": [
              "('Apple Inc.', 100)"
            ]
          },
          "metadata": {
            "tags": []
          },
          "execution_count": 24
        }
      ]
    },
    {
      "cell_type": "code",
      "metadata": {
        "id": "4HEg2qpUIV8H"
      },
      "source": [
        ""
      ],
      "execution_count": null,
      "outputs": []
    }
  ]
}