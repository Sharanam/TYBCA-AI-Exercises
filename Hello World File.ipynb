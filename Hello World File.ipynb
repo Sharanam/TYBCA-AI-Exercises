{
 "cells": [
  {
   "cell_type": "code",
   "execution_count": 1,
   "metadata": {
    "collapsed": false
   },
   "outputs": [
   ],
   "source": [
    "import nltk"
   ]
  },
  {
   "cell_type": "code",
   "execution_count": 1,
   "metadata": {
    "collapsed": false
   },
   "outputs": [
   ],
   "source": [
    "from nltk.tokenize import word_tokenize\n"
   ]
  },
  {
   "cell_type": "code",
   "execution_count": 3,
   "metadata": {
    "collapsed": false
   },
   "outputs": [
    {
     "name": "stdout",
     "output_type": "stream",
     "text": [
      "['I', 'am', 'working', 'my', 'own', 'job', '.']\n"
     ]
    }
   ],
   "source": [
    "print(word_tokenize(\"I am working my own job.\"))"
   ]
  },
  {
   "cell_type": "code",
   "execution_count": 4,
   "metadata": {
    "collapsed": false
   },
   "outputs": [
   ],
   "source": [
    "from nltk.corpus import stopwords"
   ]
  },
  {
   "cell_type": "code",
   "execution_count": 10,
   "metadata": {
    "collapsed": false
   },
   "outputs": [
    {
     "name": "stdout",
     "output_type": "stream",
     "text": [
      "{'you', 'd', 'by', 'mustn', 'but', 'very', 'm', 'more', \"shouldn't\", 'can', 'while', 'this', 'he', 've', 'shouldn', 'hadn', 'above', 'further', 'up', 'which', 'needn', 'yourself', 'a', 'has', 'ourselves', 'that', 'mightn', 'through', 'just', 'her', 'below', 'such', 'll', 'had', 'hers', 'both', 'been', 'its', 'on', \"aren't\", 'will', 'why', 'than', 'same', \"isn't\", 'was', 'who', 'some', 'too', \"you're\", 'between', \"should've\", 'during', 'ain', 'wouldn', 'any', 'aren', 'from', 'i', 'shan', \"needn't\", 's', \"she's\", 'itself', 'myself', 'about', \"didn't\", \"hadn't\", \"you've\", 'our', 'for', \"wasn't\", 'what', 'the', \"won't\", 'herself', 'them', 'or', \"haven't\", \"you'd\", 'with', 'hasn', 'down', 'his', \"that'll\", 'against', 'being', 'ma', 'after', 'each', \"wouldn't\", 'won', 'then', 'wasn', 'yourselves', 'before', 'at', 'does', 'as', 'few', \"mightn't\", 'here', 'until', 'didn', \"it's\", 'their', 'of', 'doing', 't', \"shan't\", 'theirs', 'so', 'haven', 'over', 'couldn', \"don't\", 'should', 'him', 'to', 're', 'do', \"hasn't\", 'other', \"you'll\", 'my', 'again', 'nor', 'whom', 'where', 'most', 'no', 'me', 'ours', 'don', 'under', 'be', 'own', 'it', 'how', \"mustn't\", 'am', 'they', 'all', 'out', 'off', 'once', 'are', 'isn', \"doesn't\", 'if', 'she', 'o', 'themselves', 'having', 'doesn', 'yours', 'and', 'these', \"couldn't\", 'into', 'because', 'there', 'in', 'only', 'y', 'weren', 'now', 'were', 'when', 'have', 'we', 'himself', \"weren't\", 'not', 'your', 'an', 'did', 'is', 'those'}\n"
     ]
    }
   ],
   "source": [
    "stop_words=set(stopwords.words('english'))\n",
    "print(stop_words)"
   ]
  },
  {
   "cell_type": "code",
   "execution_count": 9,
   "metadata": {
    "collapsed": false
   },
   "outputs": [
    {
     "name": "stdout",
     "output_type": "stream",
     "text": [
      "{'you', 'd', 'by', 'mustn', 'but', 'very', 'm', 'more', \"shouldn't\", 'can', 'while', 'this', 'he', 've', 'shouldn', 'hadn', 'above', 'further', 'up', 'which', 'needn', 'yourself', 'a', 'has', 'ourselves', 'that', 'mightn', 'through', 'just', 'her', 'below', 'such', 'll', 'had', 'hers', 'both', 'been', 'its', 'on', \"aren't\", 'will', 'why', 'than', 'same', \"isn't\", 'was', 'who', 'some', 'too', \"you're\", 'between', \"should've\", 'during', 'ain', 'wouldn', 'any', 'aren', 'from', 'i', 'shan', \"needn't\", 's', \"she's\", 'itself', 'myself', 'about', \"didn't\", \"hadn't\", \"you've\", 'our', 'for', \"wasn't\", 'what', 'the', \"won't\", 'herself', 'them', 'or', \"haven't\", \"you'd\", 'with', 'hasn', 'down', 'his', \"that'll\", 'against', 'being', 'ma', 'after', 'each', \"wouldn't\", 'won', 'then', 'wasn', 'yourselves', 'before', 'at', 'does', 'as', 'few', \"mightn't\", 'here', 'until', 'didn', \"it's\", 'their', 'of', 'doing', 't', \"shan't\", 'theirs', 'so', 'haven', 'over', 'couldn', \"don't\", 'should', 'him', 'to', 're', 'do', \"hasn't\", 'other', \"you'll\", 'my', 'again', 'nor', 'whom', 'where', 'most', 'no', 'me', 'ours', 'don', 'under', 'be', 'own', 'it', 'how', \"mustn't\", 'am', 'they', 'all', 'out', 'off', 'once', 'are', 'isn', \"doesn't\", 'if', 'she', 'o', 'themselves', 'having', 'doesn', 'yours', 'and', 'these', \"couldn't\", 'into', 'because', 'there', 'in', 'only', 'y', 'weren', 'now', 'were', 'when', 'have', 'we', 'himself', \"weren't\", 'not', 'your', 'an', 'did', 'is', 'those'}\n"
     ]
    }
   ],
   "source": [
    "from nltk.corpus import stopwords\n",
    "stop_words = set(stopwords.words('english'))\n",
    "print(stop_words)"
   ]
  },
  {
   "cell_type": "code",
   "execution_count": 15,
   "metadata": {
    "collapsed": false
   },
   "outputs": [
    {
     "name": "stdout",
     "output_type": "stream",
     "text": [
      "[('Voice', 'NNP'), ('cloning', 'VBG'), ('technology', 'NN'), ('is', 'VBZ'), ('relatively', 'RB'), ('accessible', 'JJ'), ('on', 'IN'), ('the', 'DT'), ('Internet', 'NNP'), ('today', 'NN'), ('.', '.')]\n",
      "[('Montreal-based', 'JJ'), ('AI', 'NNP'), ('startup', 'NN'), ('Lyrebird', 'NNP'), ('provides', 'VBZ'), ('an', 'DT'), ('online', 'JJ'), ('platform', 'NN'), ('that', 'WDT'), ('can', 'MD'), ('mimic', 'VB'), ('a', 'DT'), ('person', 'NN'), ('’', 'NNP'), ('s', 'NN'), ('mimics', 'NNS'), ('speech', 'NN'), ('when', 'WRB'), ('trained', 'VBN'), ('on', 'IN'), ('30', 'CD'), ('or', 'CC'), ('more', 'JJR'), ('recordings', 'NNS'), ('.', '.')]\n",
      "[('Baidu', 'NNP'), ('last', 'JJ'), ('year', 'NN'), ('introduced', 'VBD'), ('a', 'DT'), ('new', 'JJ'), ('neural', 'JJ'), ('voice', 'NN'), ('cloning', 'VBG'), ('system', 'NN'), ('that', 'WDT'), ('synthesizes', 'VBZ'), ('a', 'DT'), ('person', 'NN'), ('’', 'NNP'), ('s', 'NN'), ('voice', 'NN'), ('from', 'IN'), ('only', 'RB'), ('a', 'DT'), ('few', 'JJ'), ('audio', 'NN'), ('samples', 'NNS'), ('.', '.')]\n"
     ]
    }
   ],
   "source": [
    "import nltk\n",
    "from nltk.tokenize import sent_tokenize, word_tokenize\n",
    "sample_text = \"Voice cloning technology is relatively accessible on the Internet today. Montreal-based AI startup Lyrebird provides an online platform that can mimic a person’s mimics speech when trained on 30 or more recordings. Baidu last year introduced a new neural voice cloning system that synthesizes a person’s voice from only a few audio samples.\"\n",
    "tokenized_sentences = sent_tokenize(sample_text)\n",
    "for sentence in tokenized_sentences :\n",
    "    tokenized_words = word_tokenize(sentence)\n",
    "    tagged_words = nltk.pos_tag(tokenized_words)\n",
    "    print(tagged_words)"
   ]
  },
  {
   "cell_type": "code",
   "execution_count": 0,
   "metadata": {
    "collapsed": false
   },
   "outputs": [
   ],
   "source": [
    "from __future__ import print_function\n",
    "from nltk.stem import *\n"
   ]
  }
 ],
 "metadata": {
  "kernelspec": {
   "display_name": "Python 3 (system-wide)",
   "language": "python",
   "metadata": {
    "cocalc": {
     "description": "Python 3 programming language",
     "priority": 100,
     "url": "https://www.python.org/"
    }
   },
   "name": "python3"
  },
  "language_info": {
   "codemirror_mode": {
    "name": "ipython",
    "version": 3
   },
   "file_extension": ".py",
   "mimetype": "text/x-python",
   "name": "python",
   "nbconvert_exporter": "python",
   "pygments_lexer": "ipython3",
   "version": "3.8.2"
  }
 },
 "nbformat": 4,
 "nbformat_minor": 4
}
