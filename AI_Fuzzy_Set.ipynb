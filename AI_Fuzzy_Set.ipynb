{
  "nbformat": 4,
  "nbformat_minor": 0,
  "metadata": {
    "colab": {
      "name": "AI_Fuzzy_Set.ipynb",
      "provenance": []
    },
    "kernelspec": {
      "name": "python3",
      "display_name": "Python 3"
    }
  },
  "cells": [
    {
      "cell_type": "markdown",
      "metadata": {
        "id": "43rYpf0N97Iq"
      },
      "source": [
        "# What is Fuzzy Set ?\n",
        "\n",
        "Fuzzy refers to something that is unclear or vague . Hence, Fuzzy Set is a Set where every key is associated with value, which is between 0 to 1 based on the certainity .This value is often called as degree of membership. Fuzzy Set is denoted with a Tilde Sign on top of the normal Set notation."
      ]
    },
    {
      "cell_type": "code",
      "metadata": {
        "id": "y7_fvqSA9_nI",
        "outputId": "64ce0787-fbe5-4909-c8fe-5cf14fe28deb",
        "colab": {
          "base_uri": "https://localhost:8080/",
          "height": 69
        }
      },
      "source": [
        "# A = dict()\n",
        "# B = dict()\n",
        "Y = dict()\n",
        "A = {\"a\": 0.2, \"b\": 0.3, \"c\": 0.6, \"d\": 0.6}\n",
        "B = {\"a\": 0.9, \"b\": 0.9, \"c\": 0.4, \"d\": 0.5}\n",
        "print('The First Fuzzy Set is :', A)\n",
        "print('The Second Fuzzy Set is :', B)\n",
        "for A_key, B_key in zip(A, B):\n",
        "  A_value, B_value = A[A_key], B[B_key]\n",
        "  B_value = 1 - B_value\n",
        "  if A_value < B_value:\n",
        "    Y[A_key] = A_value\n",
        "  else:\n",
        "    Y[B_key] = B_value\n",
        "print('Fuzzy Set Difference is :', Y)"
      ],
      "execution_count": 5,
      "outputs": [
        {
          "output_type": "stream",
          "text": [
            "The First Fuzzy Set is : {'a': 0.2, 'b': 0.3, 'c': 0.6, 'd': 0.6}\n",
            "The Second Fuzzy Set is : {'a': 0.9, 'b': 0.9, 'c': 0.4, 'd': 0.5}\n",
            "Fuzzy Set Difference is : {'a': 0.09999999999999998, 'b': 0.09999999999999998, 'c': 0.6, 'd': 0.5}\n"
          ],
          "name": "stdout"
        }
      ]
    },
    {
      "cell_type": "code",
      "metadata": {
        "id": "9MwtVOHA-5yN",
        "outputId": "c48600da-8dc0-4a7d-c801-dfa1554208ae",
        "colab": {
          "base_uri": "https://localhost:8080/",
          "height": 69
        }
      },
      "source": [
        "# A = dict()\n",
        "# B = dict()\n",
        "Y = dict()\n",
        "A = {\"a\": 0.2, \"b\": 0.3, \"c\": 0.6, \"d\": 0.6}\n",
        "B = {\"a\": 0.9, \"b\": 0.9, \"c\": 0.4, \"d\": 0.5}\n",
        "print('The First Fuzzy Set is :', A)\n",
        "print('The Second Fuzzy Set is :', B)\n",
        "for A_key, B_key in zip(A, B):\n",
        "  A_value, B_value = A[A_key], B[B_key]\n",
        "  if A_value > B_value:\n",
        "    Y[A_key] = A_value\n",
        "  else:\n",
        "    Y[B_key] = B_value\n",
        "print('Fuzzy Set Union is :', Y)"
      ],
      "execution_count": 11,
      "outputs": [
        {
          "output_type": "stream",
          "text": [
            "The First Fuzzy Set is : {'a': 0.2, 'b': 0.3, 'c': 0.6, 'd': 0.6}\n",
            "The Second Fuzzy Set is : {'a': 0.9, 'b': 0.9, 'c': 0.4, 'd': 0.5}\n",
            "Fuzzy Set Union is : {'a': 0.9, 'b': 0.9, 'c': 0.6, 'd': 0.6}\n"
          ],
          "name": "stdout"
        }
      ]
    },
    {
      "cell_type": "code",
      "metadata": {
        "id": "sMBfdlcz_5kF",
        "outputId": "2ea100a6-f7ca-485b-e04d-61a476f37f93",
        "colab": {
          "base_uri": "https://localhost:8080/",
          "height": 69
        }
      },
      "source": [
        "# A = dict()\n",
        "# B = dict()\n",
        "Y = dict()\n",
        "A = {\"a\": 0.2, \"b\": 0.3, \"c\": 0.6, \"d\": 0.6}\n",
        "B = {\"a\": 0.9, \"b\": 0.9, \"c\": 0.4, \"d\": 0.5}\n",
        "print('The First Fuzzy Set is :', A)\n",
        "print('The Second Fuzzy Set is :', B)\n",
        "for A_key, B_key in zip(A, B):\n",
        "  A_value, B_value = A[A_key], B[B_key]\n",
        "  if A_value < B_value:\n",
        "    Y[A_key] = A_value\n",
        "  else:\n",
        "    Y[B_key] = B_value\n",
        "print('Fuzzy Set Intersection is :', Y)"
      ],
      "execution_count": 12,
      "outputs": [
        {
          "output_type": "stream",
          "text": [
            "The First Fuzzy Set is : {'a': 0.2, 'b': 0.3, 'c': 0.6, 'd': 0.6}\n",
            "The Second Fuzzy Set is : {'a': 0.9, 'b': 0.9, 'c': 0.4, 'd': 0.5}\n",
            "Fuzzy Set Union is : {'a': 0.2, 'b': 0.3, 'c': 0.4, 'd': 0.5}\n"
          ],
          "name": "stdout"
        }
      ]
    },
    {
      "cell_type": "code",
      "metadata": {
        "id": "Ps8p_sCJ_8Ay",
        "outputId": "a7222515-70d4-4832-e00f-5d509c5c8151",
        "colab": {
          "base_uri": "https://localhost:8080/",
          "height": 52
        }
      },
      "source": [
        "# A = dict()\n",
        "Y = dict()\n",
        "A = {\"a\": 0.2, \"b\": 0.3, \"c\": 0.6, \"d\": 0.6}\n",
        "print('The First Fuzzy Set is :', A)\n",
        "for A_key in A:\n",
        "  Y[A_key]= 1-A[A_key]\n",
        "print('Fuzzy Set Complement is :', Y)"
      ],
      "execution_count": 13,
      "outputs": [
        {
          "output_type": "stream",
          "text": [
            "The First Fuzzy Set is : {'a': 0.2, 'b': 0.3, 'c': 0.6, 'd': 0.6}\n",
            "Fuzzy Set Complement is : {'a': 0.8, 'b': 0.7, 'c': 0.4, 'd': 0.4}\n"
          ],
          "name": "stdout"
        }
      ]
    }
  ]
}