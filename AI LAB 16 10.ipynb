{
 "cells": [
  {
   "cell_type": "code",
   "execution_count": 1,
   "metadata": {},
   "outputs": [],
   "source": [
    "Gain_Settings = [i for i in range(0,120,20)] # Fixed Rows\n",
    "sensor1_detection = [0,0.5,0.65,0.85,1,1]    # input from sensor 1\n",
    "sensor2_detection = [0,0.35,0.5,0.75,0.9,1]  # input from sensor 2\n",
    "s1,s2={},{}\n",
    "for i,j in zip(Gain_Settings,sensor1_detection):\n",
    "    s1[i]=j\n",
    "for i,j in zip(Gain_Settings,sensor2_detection):\n",
    "    s2[i]=j"
   ]
  },
  {
   "cell_type": "code",
   "execution_count": 2,
   "metadata": {},
   "outputs": [],
   "source": [
    "def complement(sensor):\n",
    "    c_sensor={}\n",
    "    for key in sensor:\n",
    "        c_sensor[key]=1 - sensor[key]\n",
    "    return c_sensor"
   ]
  },
  {
   "cell_type": "code",
   "execution_count": 3,
   "metadata": {},
   "outputs": [],
   "source": [
    "def union(s1,s2):\n",
    "    Union={}\n",
    "    for k1, k2 in zip(s1, s2):\n",
    "        if s1[k1] > s2[k2]:\n",
    "            Union[k1] = s1[k1]\n",
    "        else:\n",
    "            Union[k2]=s2[k2]\n",
    "    return Union"
   ]
  },
  {
   "cell_type": "code",
   "execution_count": 4,
   "metadata": {},
   "outputs": [],
   "source": [
    "def Intersection(s1,s2):\n",
    "    inters={}\n",
    "    for k1, k2 in zip(s1, s2):\n",
    "        if s1[k1] < s2[k2]:\n",
    "            inters[k1] = s1[k1]\n",
    "        else:\n",
    "            inters[k2]=s2[k2]\n",
    "    return inters"
   ]
  },
  {
   "cell_type": "code",
   "execution_count": 5,
   "metadata": {},
   "outputs": [],
   "source": [
    "def Difference(s1,s2):\n",
    "    dfr={}\n",
    "    c_s2 = complement(s2)\n",
    "    for k1, k2 in zip(s1, c_s2):\n",
    "        if s1[k1] < c_s2[k2]:\n",
    "            dfr[k1]=s1[k1]\n",
    "        else:\n",
    "            dfr[k2]=c_s2[k2]\n",
    "    return dfr"
   ]
  },
  {
   "cell_type": "code",
   "execution_count": 7,
   "metadata": {},
   "outputs": [
    {
     "ename": "UnboundLocalError",
     "evalue": "local variable 'union' referenced before assignment",
     "output_type": "error",
     "traceback": [
      "\u001b[0;31m---------------------------------------------------------------------------\u001b[0m",
      "\u001b[0;31mUnboundLocalError\u001b[0m                         Traceback (most recent call last)",
      "\u001b[0;32m<ipython-input-7-b4dd0bb1422e>\u001b[0m in \u001b[0;36m<module>\u001b[0;34m\u001b[0m\n\u001b[1;32m      6\u001b[0m     \u001b[0mint_cs1cs2\u001b[0m \u001b[0;34m=\u001b[0m \u001b[0mIntersection\u001b[0m\u001b[0;34m(\u001b[0m\u001b[0mc_s1\u001b[0m\u001b[0;34m,\u001b[0m\u001b[0mc_s2\u001b[0m\u001b[0;34m)\u001b[0m\u001b[0;34m\u001b[0m\u001b[0;34m\u001b[0m\u001b[0m\n\u001b[1;32m      7\u001b[0m     \u001b[0;32mreturn\u001b[0m \u001b[0mc_union\u001b[0m\u001b[0;34m,\u001b[0m\u001b[0mint_cs1cs2\u001b[0m\u001b[0;34m\u001b[0m\u001b[0;34m\u001b[0m\u001b[0m\n\u001b[0;32m----> 8\u001b[0;31m \u001b[0mdeMorgans\u001b[0m\u001b[0;34m(\u001b[0m\u001b[0ms1\u001b[0m\u001b[0;34m,\u001b[0m\u001b[0ms2\u001b[0m\u001b[0;34m)\u001b[0m\u001b[0;34m\u001b[0m\u001b[0;34m\u001b[0m\u001b[0m\n\u001b[0m",
      "\u001b[0;32m<ipython-input-7-b4dd0bb1422e>\u001b[0m in \u001b[0;36mdeMorgans\u001b[0;34m(s1, s2)\u001b[0m\n\u001b[1;32m      2\u001b[0m     \u001b[0mc_s1\u001b[0m \u001b[0;34m=\u001b[0m \u001b[0mcomplement\u001b[0m\u001b[0;34m(\u001b[0m\u001b[0ms1\u001b[0m\u001b[0;34m)\u001b[0m\u001b[0;34m\u001b[0m\u001b[0;34m\u001b[0m\u001b[0m\n\u001b[1;32m      3\u001b[0m     \u001b[0mc_s2\u001b[0m \u001b[0;34m=\u001b[0m \u001b[0mcomplement\u001b[0m\u001b[0;34m(\u001b[0m\u001b[0ms2\u001b[0m\u001b[0;34m)\u001b[0m\u001b[0;34m\u001b[0m\u001b[0;34m\u001b[0m\u001b[0m\n\u001b[0;32m----> 4\u001b[0;31m     \u001b[0munion\u001b[0m \u001b[0;34m=\u001b[0m \u001b[0munion\u001b[0m\u001b[0;34m(\u001b[0m\u001b[0ms1\u001b[0m\u001b[0;34m,\u001b[0m\u001b[0ms2\u001b[0m\u001b[0;34m)\u001b[0m\u001b[0;34m\u001b[0m\u001b[0;34m\u001b[0m\u001b[0m\n\u001b[0m\u001b[1;32m      5\u001b[0m     \u001b[0mc_union\u001b[0m \u001b[0;34m=\u001b[0m \u001b[0mcomplement\u001b[0m\u001b[0;34m(\u001b[0m\u001b[0munion\u001b[0m\u001b[0;34m)\u001b[0m\u001b[0;34m\u001b[0m\u001b[0;34m\u001b[0m\u001b[0m\n\u001b[1;32m      6\u001b[0m     \u001b[0mint_cs1cs2\u001b[0m \u001b[0;34m=\u001b[0m \u001b[0mIntersection\u001b[0m\u001b[0;34m(\u001b[0m\u001b[0mc_s1\u001b[0m\u001b[0;34m,\u001b[0m\u001b[0mc_s2\u001b[0m\u001b[0;34m)\u001b[0m\u001b[0;34m\u001b[0m\u001b[0;34m\u001b[0m\u001b[0m\n",
      "\u001b[0;31mUnboundLocalError\u001b[0m: local variable 'union' referenced before assignment"
     ]
    }
   ],
   "source": [
    "def deMorgans(s1,s2):\n",
    "    c_s1 = complement(s1)\n",
    "    c_s2 = complement(s2)\n",
    "    union = union(s1,s2)\n",
    "    c_union = complement(union)\n",
    "    int_cs1cs2 = Intersection(c_s1,c_s2)\n",
    "    return c_union,int_cs1cs2\n",
    "deMorgans(s1,s2)"
   ]
  },
  {
   "cell_type": "code",
   "execution_count": null,
   "metadata": {},
   "outputs": [],
   "source": []
  }
 ],
 "metadata": {
  "kernelspec": {
   "display_name": "Python 3",
   "language": "python",
   "name": "python3"
  },
  "language_info": {
   "codemirror_mode": {
    "name": "ipython",
    "version": 3
   },
   "file_extension": ".py",
   "mimetype": "text/x-python",
   "name": "python",
   "nbconvert_exporter": "python",
   "pygments_lexer": "ipython3",
   "version": "3.7.8"
  }
 },
 "nbformat": 4,
 "nbformat_minor": 4
}
