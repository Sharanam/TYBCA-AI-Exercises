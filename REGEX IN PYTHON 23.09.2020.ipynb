{
  "nbformat": 4,
  "nbformat_minor": 0,
  "metadata": {
    "colab": {
      "name": "Untitled1.ipynb",
      "provenance": []
    },
    "kernelspec": {
      "name": "python3",
      "display_name": "Python 3"
    }
  },
  "cells": [
    {
      "cell_type": "code",
      "metadata": {
        "id": "fW9boMN48dkI",
        "colab_type": "code",
        "colab": {}
      },
      "source": [
        "import re"
      ],
      "execution_count": 1,
      "outputs": []
    },
    {
      "cell_type": "code",
      "metadata": {
        "id": "E62829yl8nfL",
        "colab_type": "code",
        "colab": {
          "base_uri": "https://localhost:8080/",
          "height": 34
        },
        "outputId": "acb71ac3-10b4-4f2a-f5b1-3d0fa2083d8d"
      },
      "source": [
        "txt = \"The rain in Spain\"\n",
        "print(re.search('^The.*Spain$',txt))"
      ],
      "execution_count": 2,
      "outputs": [
        {
          "output_type": "stream",
          "text": [
            "<_sre.SRE_Match object; span=(0, 17), match='The rain in Spain'>\n"
          ],
          "name": "stdout"
        }
      ]
    },
    {
      "cell_type": "code",
      "metadata": {
        "id": "jtAvr2Gn9Hpb",
        "colab_type": "code",
        "colab": {
          "base_uri": "https://localhost:8080/",
          "height": 34
        },
        "outputId": "a1e45658-1702-42be-a02d-f6446800435e"
      },
      "source": [
        "print(re.findall(\"ai\",txt))"
      ],
      "execution_count": 3,
      "outputs": [
        {
          "output_type": "stream",
          "text": [
            "['ai', 'ai']\n"
          ],
          "name": "stdout"
        }
      ]
    },
    {
      "cell_type": "code",
      "metadata": {
        "id": "ltwokx82972w",
        "colab_type": "code",
        "colab": {
          "base_uri": "https://localhost:8080/",
          "height": 34
        },
        "outputId": "b4c49b01-ea3a-49c8-de8e-d950737d2963"
      },
      "source": [
        "print(re.findall(\"Portugal\",txt))"
      ],
      "execution_count": 4,
      "outputs": [
        {
          "output_type": "stream",
          "text": [
            "[]\n"
          ],
          "name": "stdout"
        }
      ]
    },
    {
      "cell_type": "code",
      "metadata": {
        "id": "EDZ2fJbj-DwV",
        "colab_type": "code",
        "colab": {
          "base_uri": "https://localhost:8080/",
          "height": 34
        },
        "outputId": "5a974c28-1609-4f35-8d6f-29edcc778309"
      },
      "source": [
        "print(\"The first white-space character is located in position: \",re.search(\"\\s\",txt).start())"
      ],
      "execution_count": 6,
      "outputs": [
        {
          "output_type": "stream",
          "text": [
            "The first white-space character is located in position:  3\n"
          ],
          "name": "stdout"
        }
      ]
    },
    {
      "cell_type": "code",
      "metadata": {
        "id": "k9yFqnDc-TY5",
        "colab_type": "code",
        "colab": {
          "base_uri": "https://localhost:8080/",
          "height": 34
        },
        "outputId": "995adb2c-fd00-4821-c093-1a85b22a7aea"
      },
      "source": [
        "print(re.split('\\s',txt))"
      ],
      "execution_count": 7,
      "outputs": [
        {
          "output_type": "stream",
          "text": [
            "['The', 'rain', 'in', 'Spain']\n"
          ],
          "name": "stdout"
        }
      ]
    },
    {
      "cell_type": "code",
      "metadata": {
        "id": "0Xvrhrdg_EU7",
        "colab_type": "code",
        "colab": {
          "base_uri": "https://localhost:8080/",
          "height": 34
        },
        "outputId": "72ca7b0a-cda0-4051-e178-90424e44f341"
      },
      "source": [
        "print(re.split('\\s',txt,1))"
      ],
      "execution_count": 8,
      "outputs": [
        {
          "output_type": "stream",
          "text": [
            "['The', 'rain in Spain']\n"
          ],
          "name": "stdout"
        }
      ]
    },
    {
      "cell_type": "code",
      "metadata": {
        "id": "ReZZ9xvW_IOP",
        "colab_type": "code",
        "colab": {
          "base_uri": "https://localhost:8080/",
          "height": 34
        },
        "outputId": "5951f254-1495-4957-aa9a-a61bcbebf186"
      },
      "source": [
        "print(re.sub('\\s','9',txt))"
      ],
      "execution_count": 9,
      "outputs": [
        {
          "output_type": "stream",
          "text": [
            "The9rain9in9Spain\n"
          ],
          "name": "stdout"
        }
      ]
    },
    {
      "cell_type": "code",
      "metadata": {
        "id": "xEOfXoUz_O47",
        "colab_type": "code",
        "colab": {
          "base_uri": "https://localhost:8080/",
          "height": 34
        },
        "outputId": "a79c7d06-61dc-4a35-c981-94026478a0ec"
      },
      "source": [
        "print(re.sub('\\s','9',txt,2))"
      ],
      "execution_count": 10,
      "outputs": [
        {
          "output_type": "stream",
          "text": [
            "The9rain9in Spain\n"
          ],
          "name": "stdout"
        }
      ]
    },
    {
      "cell_type": "code",
      "metadata": {
        "id": "ygECyY1fCgSp",
        "colab_type": "code",
        "colab": {
          "base_uri": "https://localhost:8080/",
          "height": 34
        },
        "outputId": "a4832c16-48c5-4bd2-b620-81c60310e251"
      },
      "source": [
        "print(re.search(\"ai\", txt))"
      ],
      "execution_count": 11,
      "outputs": [
        {
          "output_type": "stream",
          "text": [
            "<_sre.SRE_Match object; span=(5, 7), match='ai'>\n"
          ],
          "name": "stdout"
        }
      ]
    },
    {
      "cell_type": "code",
      "metadata": {
        "id": "nSVABI63ClRi",
        "colab_type": "code",
        "colab": {
          "base_uri": "https://localhost:8080/",
          "height": 34
        },
        "outputId": "e8de53c9-d329-4206-ac8e-410a7407ffb9"
      },
      "source": [
        "print(re.search(r\"\\bS\\w+\", txt).span())"
      ],
      "execution_count": 12,
      "outputs": [
        {
          "output_type": "stream",
          "text": [
            "(12, 17)\n"
          ],
          "name": "stdout"
        }
      ]
    },
    {
      "cell_type": "code",
      "metadata": {
        "id": "WojstYvECq0v",
        "colab_type": "code",
        "colab": {
          "base_uri": "https://localhost:8080/",
          "height": 34
        },
        "outputId": "debf7e85-9ade-4e9f-a604-c133132520a4"
      },
      "source": [
        "print(re.search(r\"\\b\\w+\", txt).span())"
      ],
      "execution_count": 13,
      "outputs": [
        {
          "output_type": "stream",
          "text": [
            "(0, 3)\n"
          ],
          "name": "stdout"
        }
      ]
    },
    {
      "cell_type": "code",
      "metadata": {
        "id": "nxpBw-Y-DDxm",
        "colab_type": "code",
        "colab": {
          "base_uri": "https://localhost:8080/",
          "height": 34
        },
        "outputId": "f02a5ae2-d2d0-4f32-9ce7-3ebe59aed8f0"
      },
      "source": [
        "print(re.search(r\"\\bS\\w+\", txt).group())"
      ],
      "execution_count": 14,
      "outputs": [
        {
          "output_type": "stream",
          "text": [
            "Spain\n"
          ],
          "name": "stdout"
        }
      ]
    },
    {
      "cell_type": "code",
      "metadata": {
        "id": "RUFonA2aDIcC",
        "colab_type": "code",
        "colab": {
          "base_uri": "https://localhost:8080/",
          "height": 34
        },
        "outputId": "1f7fa260-1d5b-48cb-d2bf-a44dc43402eb"
      },
      "source": [
        "print(re.search(r\"\\bS\\w+\", txt).string)"
      ],
      "execution_count": 15,
      "outputs": [
        {
          "output_type": "stream",
          "text": [
            "The rain in Spain\n"
          ],
          "name": "stdout"
        }
      ]
    },
    {
      "cell_type": "code",
      "metadata": {
        "id": "dpmjWHaLDQ4D",
        "colab_type": "code",
        "colab": {
          "base_uri": "https://localhost:8080/",
          "height": 50
        },
        "outputId": "0f53065b-da03-4245-cd8a-de08bc9f8f25"
      },
      "source": [
        "def is_allowed_specific_char(string):\n",
        "  charRe = re.compile(r'[^a-zA-Z0-9.]')\n",
        "  string = charRe.search(string)\n",
        "  return not bool(string)\n",
        "print(is_allowed_specific_char(\"ABCDEFabcdef123450\"))\n",
        "print(is_allowed_specific_char(\"*&%@#!}{\"))"
      ],
      "execution_count": 16,
      "outputs": [
        {
          "output_type": "stream",
          "text": [
            "True\n",
            "False\n"
          ],
          "name": "stdout"
        }
      ]
    },
    {
      "cell_type": "code",
      "metadata": {
        "id": "GjfHC4JnEFag",
        "colab_type": "code",
        "colab": {
          "base_uri": "https://localhost:8080/",
          "height": 34
        },
        "outputId": "cee2d64c-5123-479f-effe-a7a4f73c7d0d"
      },
      "source": [
        "print('Found a match' if re.search(\"^ab*?\",'a') else 'Not matched!')"
      ],
      "execution_count": 17,
      "outputs": [
        {
          "output_type": "stream",
          "text": [
            "Found a match\n"
          ],
          "name": "stdout"
        }
      ]
    },
    {
      "cell_type": "code",
      "metadata": {
        "id": "_kmnGiByE0GT",
        "colab_type": "code",
        "colab": {
          "base_uri": "https://localhost:8080/",
          "height": 34
        },
        "outputId": "a98141b3-60fe-4e79-b258-6aa88b836e06"
      },
      "source": [
        "print('Found a match' if re.search(\"^ab+?\",'ab') else 'Not matched!')"
      ],
      "execution_count": 18,
      "outputs": [
        {
          "output_type": "stream",
          "text": [
            "Found a match\n"
          ],
          "name": "stdout"
        }
      ]
    },
    {
      "cell_type": "code",
      "metadata": {
        "id": "qA8o2icnE9Wa",
        "colab_type": "code",
        "colab": {
          "base_uri": "https://localhost:8080/",
          "height": 34
        },
        "outputId": "884475f6-5a9d-4575-9075-614bf7bca681"
      },
      "source": [
        "print('Found a match' if re.search(\"^ab+?\",'a') else 'Not matched!')"
      ],
      "execution_count": 19,
      "outputs": [
        {
          "output_type": "stream",
          "text": [
            "Not matched!\n"
          ],
          "name": "stdout"
        }
      ]
    },
    {
      "cell_type": "code",
      "metadata": {
        "id": "42lEl9sCE-gf",
        "colab_type": "code",
        "colab": {
          "base_uri": "https://localhost:8080/",
          "height": 34
        },
        "outputId": "b52e7f0d-ec35-4e45-990c-e1a26b6b6e7f"
      },
      "source": [
        "print('Found a match' if re.search(\"^ab?\",'ab') else 'Not matched!')"
      ],
      "execution_count": 20,
      "outputs": [
        {
          "output_type": "stream",
          "text": [
            "Found a match\n"
          ],
          "name": "stdout"
        }
      ]
    },
    {
      "cell_type": "code",
      "metadata": {
        "id": "1V-xJB6cFCpQ",
        "colab_type": "code",
        "colab": {
          "base_uri": "https://localhost:8080/",
          "height": 34
        },
        "outputId": "b77585d0-587d-457f-a11f-82499247ad95"
      },
      "source": [
        "print('Found a match' if re.search(\"^ab?\",'a') else 'Not matched!')"
      ],
      "execution_count": 21,
      "outputs": [
        {
          "output_type": "stream",
          "text": [
            "Found a match\n"
          ],
          "name": "stdout"
        }
      ]
    },
    {
      "cell_type": "code",
      "metadata": {
        "id": "XQyfxcHnFEnN",
        "colab_type": "code",
        "colab": {
          "base_uri": "https://localhost:8080/",
          "height": 34
        },
        "outputId": "43f40df0-19ef-44bb-b3e4-1dae85fbd31a"
      },
      "source": [
        "print('Found a match' if re.search(\"^ab?\",'abc') else 'Not matched!')"
      ],
      "execution_count": 22,
      "outputs": [
        {
          "output_type": "stream",
          "text": [
            "Found a match\n"
          ],
          "name": "stdout"
        }
      ]
    },
    {
      "cell_type": "code",
      "metadata": {
        "id": "FveR0CEqFKoo",
        "colab_type": "code",
        "colab": {
          "base_uri": "https://localhost:8080/",
          "height": 34
        },
        "outputId": "52987195-bb76-40a2-c15e-7a02fd3331c0"
      },
      "source": [
        "print('Found a match' if re.search(\"^ab?\",'abbc') else 'Not matched!')"
      ],
      "execution_count": 23,
      "outputs": [
        {
          "output_type": "stream",
          "text": [
            "Found a match\n"
          ],
          "name": "stdout"
        }
      ]
    },
    {
      "cell_type": "code",
      "metadata": {
        "id": "SoA79PvyFMIR",
        "colab_type": "code",
        "colab": {
          "base_uri": "https://localhost:8080/",
          "height": 34
        },
        "outputId": "31718185-ad0f-435a-8dbf-4f3357885cb3"
      },
      "source": [
        "print('Found a match' if re.search(\"^ab?\",'aabbc') else 'Not matched!')"
      ],
      "execution_count": 24,
      "outputs": [
        {
          "output_type": "stream",
          "text": [
            "Found a match\n"
          ],
          "name": "stdout"
        }
      ]
    },
    {
      "cell_type": "code",
      "metadata": {
        "id": "iC4bIyDxFN2V",
        "colab_type": "code",
        "colab": {
          "base_uri": "https://localhost:8080/",
          "height": 34
        },
        "outputId": "55c9dc99-6bce-491f-b08c-ad2875b479d8"
      },
      "source": [
        "print('Found a match' if re.search(\"^abbb?\",'abbb') else 'Not matched!')"
      ],
      "execution_count": 25,
      "outputs": [
        {
          "output_type": "stream",
          "text": [
            "Found a match\n"
          ],
          "name": "stdout"
        }
      ]
    },
    {
      "cell_type": "code",
      "metadata": {
        "id": "8pcU4WBOFczm",
        "colab_type": "code",
        "colab": {
          "base_uri": "https://localhost:8080/",
          "height": 34
        },
        "outputId": "eb97c6b6-7429-4c44-aa3f-2d745acb8c32"
      },
      "source": [
        "print('Found a match' if re.search(\"^ab{3}?\",'abbb') else 'Not matched!')"
      ],
      "execution_count": 26,
      "outputs": [
        {
          "output_type": "stream",
          "text": [
            "Found a match\n"
          ],
          "name": "stdout"
        }
      ]
    },
    {
      "cell_type": "code",
      "metadata": {
        "id": "vSNkrQ7VFfL0",
        "colab_type": "code",
        "colab": {
          "base_uri": "https://localhost:8080/",
          "height": 34
        },
        "outputId": "3ee9328e-128d-4385-a47d-215d15e16a09"
      },
      "source": [
        "print('Found a match' if re.search(\"^ab{3}?\",'aabbb') else 'Not matched!')"
      ],
      "execution_count": 27,
      "outputs": [
        {
          "output_type": "stream",
          "text": [
            "Not matched!\n"
          ],
          "name": "stdout"
        }
      ]
    },
    {
      "cell_type": "code",
      "metadata": {
        "id": "AC5_uQGxFk8G",
        "colab_type": "code",
        "colab": {
          "base_uri": "https://localhost:8080/",
          "height": 34
        },
        "outputId": "0190efd5-43bf-430a-fc95-bc0876e301e0"
      },
      "source": [
        "print('Found a match' if re.search(\"^[a-z]+_[a-z]+$\",'a_bb') else 'Not matched!')"
      ],
      "execution_count": 28,
      "outputs": [
        {
          "output_type": "stream",
          "text": [
            "Found a match\n"
          ],
          "name": "stdout"
        }
      ]
    },
    {
      "cell_type": "code",
      "metadata": {
        "id": "Q2GBzkjuFvDn",
        "colab_type": "code",
        "colab": {
          "base_uri": "https://localhost:8080/",
          "height": 34
        },
        "outputId": "510fc8e5-c73e-4afb-c70d-7c6d81af0187"
      },
      "source": [
        "print('Found a match' if re.search(\"^[A-Z]+[a-z]+$\",'AbbbCb') else 'Not matched!')"
      ],
      "execution_count": 29,
      "outputs": [
        {
          "output_type": "stream",
          "text": [
            "Not matched!\n"
          ],
          "name": "stdout"
        }
      ]
    },
    {
      "cell_type": "code",
      "metadata": {
        "id": "cNWhmzvwF3hN",
        "colab_type": "code",
        "colab": {
          "base_uri": "https://localhost:8080/",
          "height": 34
        },
        "outputId": "5cbb7ee4-aad9-4d94-8c4e-c054908811dd"
      },
      "source": [
        "print('Found a match' if re.search(\"^[A-Z]+[a-z]+$\",'Abbbcb') else 'Not matched!')"
      ],
      "execution_count": 30,
      "outputs": [
        {
          "output_type": "stream",
          "text": [
            "Found a match\n"
          ],
          "name": "stdout"
        }
      ]
    },
    {
      "cell_type": "code",
      "metadata": {
        "id": "574dTD3_F6JR",
        "colab_type": "code",
        "colab": {
          "base_uri": "https://localhost:8080/",
          "height": 34
        },
        "outputId": "db32f9d7-3857-432a-a97c-a567edf33048"
      },
      "source": [
        "print('Found a match' if re.search(\"^a.*?b$\",'addZb') else 'Not matched!')"
      ],
      "execution_count": 31,
      "outputs": [
        {
          "output_type": "stream",
          "text": [
            "Found a match\n"
          ],
          "name": "stdout"
        }
      ]
    },
    {
      "cell_type": "code",
      "metadata": {
        "id": "7uBvv0KtGAyI",
        "colab_type": "code",
        "colab": {
          "base_uri": "https://localhost:8080/",
          "height": 34
        },
        "outputId": "24dfdfd4-fbd4-43b8-ae63-6594bedb0283"
      },
      "source": [
        "print('Found a match' if re.search(\"^\\w+\",'I am Human') else 'Not matched!')"
      ],
      "execution_count": 32,
      "outputs": [
        {
          "output_type": "stream",
          "text": [
            "Found a match\n"
          ],
          "name": "stdout"
        }
      ]
    },
    {
      "cell_type": "code",
      "metadata": {
        "id": "Yx9GFYHFGKpn",
        "colab_type": "code",
        "colab": {
          "base_uri": "https://localhost:8080/",
          "height": 34
        },
        "outputId": "5da7cebd-40da-4771-bdb3-707401dfb41a"
      },
      "source": [
        "print('Found a match' if re.search(\"^\\w+\",' I am alien, will anyone marry me?') else 'Not matched!')"
      ],
      "execution_count": 33,
      "outputs": [
        {
          "output_type": "stream",
          "text": [
            "Not matched!\n"
          ],
          "name": "stdout"
        }
      ]
    },
    {
      "cell_type": "code",
      "metadata": {
        "id": "7QLWOhn0GOL6",
        "colab_type": "code",
        "colab": {
          "base_uri": "https://localhost:8080/",
          "height": 34
        },
        "outputId": "09adbe95-3935-45b2-bddd-f095103d38fa"
      },
      "source": [
        "print('Found a match' if re.search(\"^\\w+\\S*$\",'The sun shines.') else 'Not matched!')"
      ],
      "execution_count": 34,
      "outputs": [
        {
          "output_type": "stream",
          "text": [
            "Not matched!\n"
          ],
          "name": "stdout"
        }
      ]
    },
    {
      "cell_type": "code",
      "metadata": {
        "id": "jHBIlE4vGdwn",
        "colab_type": "code",
        "colab": {
          "base_uri": "https://localhost:8080/",
          "height": 34
        },
        "outputId": "dcae78ec-2a23-4dfc-ed6b-8e1379f70a58"
      },
      "source": [
        "print('Found a match' if re.search(\"^\\w+\\S*$\",'The sun shine.  ') else 'Not matched!')"
      ],
      "execution_count": 35,
      "outputs": [
        {
          "output_type": "stream",
          "text": [
            "Not matched!\n"
          ],
          "name": "stdout"
        }
      ]
    },
    {
      "cell_type": "code",
      "metadata": {
        "id": "JL7uG7lYGjOp",
        "colab_type": "code",
        "colab": {
          "base_uri": "https://localhost:8080/",
          "height": 34
        },
        "outputId": "0689f332-27a4-4f52-9152-08c2e8c16d57"
      },
      "source": [
        "print('Found a match' if re.search(\"^\\w+\\S*$\",'  The sun shine.  ') else 'Not matched!')"
      ],
      "execution_count": 36,
      "outputs": [
        {
          "output_type": "stream",
          "text": [
            "Not matched!\n"
          ],
          "name": "stdout"
        }
      ]
    },
    {
      "cell_type": "code",
      "metadata": {
        "id": "4ecFqp9FGqkK",
        "colab_type": "code",
        "colab": {
          "base_uri": "https://localhost:8080/",
          "height": 34
        },
        "outputId": "e45b90fe-1dc2-417c-acb0-e6f33a7d0ad4"
      },
      "source": [
        "print('Found a match' if re.search(\"^\\w+\\S*$\",'  The sun shine.!!  ') else 'Not matched!')"
      ],
      "execution_count": 37,
      "outputs": [
        {
          "output_type": "stream",
          "text": [
            "Not matched!\n"
          ],
          "name": "stdout"
        }
      ]
    },
    {
      "cell_type": "code",
      "metadata": {
        "id": "NqgM4eQXGtXK",
        "colab_type": "code",
        "colab": {
          "base_uri": "https://localhost:8080/",
          "height": 34
        },
        "outputId": "8b5c9d98-e008-401f-d655-76ffd48ef2f9"
      },
      "source": [
        "print('Found a match' if re.search(\"z\",'  The sun shine z plus secure.  ') else 'Not matched!')"
      ],
      "execution_count": 38,
      "outputs": [
        {
          "output_type": "stream",
          "text": [
            "Found a match\n"
          ],
          "name": "stdout"
        }
      ]
    },
    {
      "cell_type": "code",
      "metadata": {
        "id": "0fu1YFzzG3Q7",
        "colab_type": "code",
        "colab": {}
      },
      "source": [
        "def mt(pattern,text):\n",
        "  print('Found a match' if re.search(pattern,text) else 'Not matched!')"
      ],
      "execution_count": 39,
      "outputs": []
    },
    {
      "cell_type": "code",
      "metadata": {
        "id": "YuCW59TgHEAy",
        "colab_type": "code",
        "colab": {
          "base_uri": "https://localhost:8080/",
          "height": 34
        },
        "outputId": "9b38a6af-dec0-4d66-f627-6f59dd41ceac"
      },
      "source": [
        "mt('z\\b',\"This text is not starting or ending with z.\")"
      ],
      "execution_count": 40,
      "outputs": [
        {
          "output_type": "stream",
          "text": [
            "Not matched!\n"
          ],
          "name": "stdout"
        }
      ]
    },
    {
      "cell_type": "code",
      "metadata": {
        "id": "fwhdjL2jHMF7",
        "colab_type": "code",
        "colab": {
          "base_uri": "https://localhost:8080/",
          "height": 34
        },
        "outputId": "d17f97b0-4a07-4587-aa93-5ecab126732c"
      },
      "source": [
        "mt('z\\b',\"This text is not starting or ending with z. isn't it?\")"
      ],
      "execution_count": 41,
      "outputs": [
        {
          "output_type": "stream",
          "text": [
            "Not matched!\n"
          ],
          "name": "stdout"
        }
      ]
    },
    {
      "cell_type": "code",
      "metadata": {
        "id": "XAS0l5BhHRwj",
        "colab_type": "code",
        "colab": {
          "base_uri": "https://localhost:8080/",
          "height": 34
        },
        "outputId": "47586e97-bc38-4db0-e6cf-4b78213bec73"
      },
      "source": [
        "mt('z\\B',\"This text is not starting or ending with z.\")"
      ],
      "execution_count": 42,
      "outputs": [
        {
          "output_type": "stream",
          "text": [
            "Not matched!\n"
          ],
          "name": "stdout"
        }
      ]
    },
    {
      "cell_type": "code",
      "metadata": {
        "id": "3vnXQIbsHUm-",
        "colab_type": "code",
        "colab": {
          "base_uri": "https://localhost:8080/",
          "height": 34
        },
        "outputId": "6c2030f8-9ac6-4367-97a1-ccf95995ad88"
      },
      "source": [
        "mt('z\\b',\"This text is not starting or ending with z\")"
      ],
      "execution_count": 43,
      "outputs": [
        {
          "output_type": "stream",
          "text": [
            "Not matched!\n"
          ],
          "name": "stdout"
        }
      ]
    },
    {
      "cell_type": "code",
      "metadata": {
        "id": "I8BMWgPOHXPL",
        "colab_type": "code",
        "colab": {
          "base_uri": "https://localhost:8080/",
          "height": 34
        },
        "outputId": "026a4644-e272-4187-992e-77aab735455a"
      },
      "source": [
        "mt('z\\B',\"This text is ending with z\")"
      ],
      "execution_count": 44,
      "outputs": [
        {
          "output_type": "stream",
          "text": [
            "Not matched!\n"
          ],
          "name": "stdout"
        }
      ]
    },
    {
      "cell_type": "code",
      "metadata": {
        "id": "_k2Axd5eHaZ8",
        "colab_type": "code",
        "colab": {
          "base_uri": "https://localhost:8080/",
          "height": 34
        },
        "outputId": "6931a1c2-fd63-4e41-aec9-fe30d0ab0323"
      },
      "source": [
        "mt(r'z\\B',\"This text is ending with z\")"
      ],
      "execution_count": 45,
      "outputs": [
        {
          "output_type": "stream",
          "text": [
            "Not matched!\n"
          ],
          "name": "stdout"
        }
      ]
    },
    {
      "cell_type": "code",
      "metadata": {
        "id": "ift4dGPxHkv_",
        "colab_type": "code",
        "colab": {
          "base_uri": "https://localhost:8080/",
          "height": 34
        },
        "outputId": "2b960558-618c-4370-ccc6-ce70f82f863b"
      },
      "source": [
        "mt(r'z\\b',\"This text is ending with z\")"
      ],
      "execution_count": 46,
      "outputs": [
        {
          "output_type": "stream",
          "text": [
            "Found a match\n"
          ],
          "name": "stdout"
        }
      ]
    },
    {
      "cell_type": "code",
      "metadata": {
        "id": "OsuUcUPlHope",
        "colab_type": "code",
        "colab": {
          "base_uri": "https://localhost:8080/",
          "height": 34
        },
        "outputId": "c048b7a5-e725-4df4-cc13-69f5582f2d48"
      },
      "source": [
        "mt(r'z\\B',\"This text is not starting or  ending with z, right?\")"
      ],
      "execution_count": 47,
      "outputs": [
        {
          "output_type": "stream",
          "text": [
            "Not matched!\n"
          ],
          "name": "stdout"
        }
      ]
    },
    {
      "cell_type": "code",
      "metadata": {
        "id": "mNXXPfG_Hwjx",
        "colab_type": "code",
        "colab": {
          "base_uri": "https://localhost:8080/",
          "height": 34
        },
        "outputId": "107b33e2-dc9e-4c60-d4a3-a74caef858eb"
      },
      "source": [
        "print('Found a match' if re.search(\"^[A-Za-z0-9_]$\",' I am alien, will anyone marry me?') else 'Not matched!')"
      ],
      "execution_count": 50,
      "outputs": [
        {
          "output_type": "stream",
          "text": [
            "Not matched!\n"
          ],
          "name": "stdout"
        }
      ]
    },
    {
      "cell_type": "code",
      "metadata": {
        "id": "2BLiCe6JH6gn",
        "colab_type": "code",
        "colab": {
          "base_uri": "https://localhost:8080/",
          "height": 34
        },
        "outputId": "f24bebe7-62e5-455f-aa6f-a4408971bac5"
      },
      "source": [
        "print('Found a match' if re.search(\"^[A-Za-z0-9_]$\",' I am alien_ will anyone marry me 99') else 'Not matched!')"
      ],
      "execution_count": 51,
      "outputs": [
        {
          "output_type": "stream",
          "text": [
            "Not matched!\n"
          ],
          "name": "stdout"
        }
      ]
    },
    {
      "cell_type": "code",
      "metadata": {
        "id": "h3evfwajIaI-",
        "colab_type": "code",
        "colab": {
          "base_uri": "https://localhost:8080/",
          "height": 34
        },
        "outputId": "487d6e8a-b79a-4ca6-df28-a93e63b3720b"
      },
      "source": [
        "print('Found a match' if re.search(\"^[A-Za-z0-9_ ]$\",' I am alien_ will anyone marry me 99') else 'Not matched!')"
      ],
      "execution_count": 52,
      "outputs": [
        {
          "output_type": "stream",
          "text": [
            "Not matched!\n"
          ],
          "name": "stdout"
        }
      ]
    },
    {
      "cell_type": "code",
      "metadata": {
        "id": "ge9fsb72IdqH",
        "colab_type": "code",
        "colab": {
          "base_uri": "https://localhost:8080/",
          "height": 34
        },
        "outputId": "e21db739-d7c3-41be-9d7d-a19d058a68be"
      },
      "source": [
        "print('Found a match' if re.search(\"^[A-Za-z0-9_]+$\",' I am alien_ will anyone marry me 99') else 'Not matched!')"
      ],
      "execution_count": 53,
      "outputs": [
        {
          "output_type": "stream",
          "text": [
            "Not matched!\n"
          ],
          "name": "stdout"
        }
      ]
    },
    {
      "cell_type": "code",
      "metadata": {
        "id": "skg8LU-RIh-t",
        "colab_type": "code",
        "colab": {
          "base_uri": "https://localhost:8080/",
          "height": 34
        },
        "outputId": "c4363077-2d5e-4a32-90c0-fd10033eac76"
      },
      "source": [
        "print('Found a match' if re.search(\"^[A-Za-z0-9_ ]+$\",' I am alien_ will anyone marry me 99') else 'Not matched!')"
      ],
      "execution_count": 54,
      "outputs": [
        {
          "output_type": "stream",
          "text": [
            "Found a match\n"
          ],
          "name": "stdout"
        }
      ]
    },
    {
      "cell_type": "code",
      "metadata": {
        "id": "DvqV6ZWTIkt1",
        "colab_type": "code",
        "colab": {
          "base_uri": "https://localhost:8080/",
          "height": 34
        },
        "outputId": "5ad59877-4264-45b9-b4b7-12161a06d050"
      },
      "source": [
        "print('Found a match' if re.search(\"^5\",'5 I am alien_ will anyone marry me 99') else 'Not matched!')"
      ],
      "execution_count": 55,
      "outputs": [
        {
          "output_type": "stream",
          "text": [
            "Found a match\n"
          ],
          "name": "stdout"
        }
      ]
    },
    {
      "cell_type": "code",
      "metadata": {
        "id": "5c4i5fBLIwBj",
        "colab_type": "code",
        "colab": {
          "base_uri": "https://localhost:8080/",
          "height": 35
        },
        "outputId": "9107a2cf-5b2e-449b-9fda-7e9e75685d39"
      },
      "source": [
        "answer=[]\n",
        "for i in re.split('[.]','001.200.090.005'):\n",
        "    answer.append(re.sub('^0','',i))\n",
        "'.'.join(answer)"
      ],
      "execution_count": 56,
      "outputs": [
        {
          "output_type": "execute_result",
          "data": {
            "application/vnd.google.colaboratory.intrinsic+json": {
              "type": "string"
            },
            "text/plain": [
              "'01.200.90.05'"
            ]
          },
          "metadata": {
            "tags": []
          },
          "execution_count": 56
        }
      ]
    },
    {
      "cell_type": "code",
      "metadata": {
        "id": "K-HCYkXdLj5K",
        "colab_type": "code",
        "colab": {
          "base_uri": "https://localhost:8080/",
          "height": 34
        },
        "outputId": "6cf351d7-1d59-44cd-839a-f34310812b64"
      },
      "source": [
        "print('Found a match' if re.search(\"\\d$\",' I am alien_ will anyone marry me 99') else 'Not matched!')"
      ],
      "execution_count": 57,
      "outputs": [
        {
          "output_type": "stream",
          "text": [
            "Found a match\n"
          ],
          "name": "stdout"
        }
      ]
    },
    {
      "cell_type": "code",
      "metadata": {
        "id": "nwEHw6cWLxMN",
        "colab_type": "code",
        "colab": {
          "base_uri": "https://localhost:8080/",
          "height": 34
        },
        "outputId": "bfa8b082-4a44-435b-ffc6-a8db78e6fa9e"
      },
      "source": [
        "print('Found a match' if re.search(\"^[0-9]{3}$\",'995') else 'Not matched!')"
      ],
      "execution_count": 58,
      "outputs": [
        {
          "output_type": "stream",
          "text": [
            "Found a match\n"
          ],
          "name": "stdout"
        }
      ]
    },
    {
      "cell_type": "code",
      "metadata": {
        "id": "V_HvyKguOfwQ",
        "colab_type": "code",
        "colab": {
          "base_uri": "https://localhost:8080/",
          "height": 34
        },
        "outputId": "860e5c20-a4ca-48ee-f5ce-72646b27b6c0"
      },
      "source": [
        "print('Found a match' if re.search(\"^[0-9]{1,3}$\",'95') else 'Not matched!')"
      ],
      "execution_count": 59,
      "outputs": [
        {
          "output_type": "stream",
          "text": [
            "Found a match\n"
          ],
          "name": "stdout"
        }
      ]
    },
    {
      "cell_type": "code",
      "metadata": {
        "id": "EET0-1e6Ol67",
        "colab_type": "code",
        "colab": {
          "base_uri": "https://localhost:8080/",
          "height": 34
        },
        "outputId": "07628357-57c7-4b7e-80a0-0aa0f5e14878"
      },
      "source": [
        "print(re.sub(\"[ ]\",'_','I am Army Man.'))"
      ],
      "execution_count": 60,
      "outputs": [
        {
          "output_type": "stream",
          "text": [
            "I_am_Army_Man.\n"
          ],
          "name": "stdout"
        }
      ]
    },
    {
      "cell_type": "code",
      "metadata": {
        "id": "1ZGOu620PR_A",
        "colab_type": "code",
        "colab": {
          "base_uri": "https://localhost:8080/",
          "height": 34
        },
        "outputId": "79eb322d-6eeb-4f52-e887-827c82321c58"
      },
      "source": [
        "print(re.sub(\"_\",' ','I am Army Man.'))"
      ],
      "execution_count": 61,
      "outputs": [
        {
          "output_type": "stream",
          "text": [
            "I am Army Man.\n"
          ],
          "name": "stdout"
        }
      ]
    },
    {
      "cell_type": "code",
      "metadata": {
        "id": "W583L36bPWne",
        "colab_type": "code",
        "colab": {
          "base_uri": "https://localhost:8080/",
          "height": 34
        },
        "outputId": "f24032d3-5567-4515-93f6-5b0e57e1c255"
      },
      "source": [
        "print(re.sub(\"_\",' ','I am Army_Man.'))"
      ],
      "execution_count": 62,
      "outputs": [
        {
          "output_type": "stream",
          "text": [
            "I am Army Man.\n"
          ],
          "name": "stdout"
        }
      ]
    },
    {
      "cell_type": "code",
      "metadata": {
        "id": "_P8E1DCEPZRQ",
        "colab_type": "code",
        "colab": {
          "base_uri": "https://localhost:8080/",
          "height": 34
        },
        "outputId": "945f5c64-93ff-4a3d-8e3f-27aa7a43e14e"
      },
      "source": [
        "print(re.findall('[ae]\\w','I am doing each work'))"
      ],
      "execution_count": 63,
      "outputs": [
        {
          "output_type": "stream",
          "text": [
            "['am', 'ea']\n"
          ],
          "name": "stdout"
        }
      ]
    },
    {
      "cell_type": "code",
      "metadata": {
        "id": "GTa68nZNP4HP",
        "colab_type": "code",
        "colab": {
          "base_uri": "https://localhost:8080/",
          "height": 84
        },
        "outputId": "9f5197f3-aab7-45ce-cb96-95730378cb4c"
      },
      "source": [
        "for m in re.finditer(\"\\d+\", \"I am doing each work 58 58 \"):\n",
        "    print(m.group())\n",
        "    print(\"Index position:\", m.start())"
      ],
      "execution_count": 65,
      "outputs": [
        {
          "output_type": "stream",
          "text": [
            "58\n",
            "Index position: 21\n",
            "58\n",
            "Index position: 24\n"
          ],
          "name": "stdout"
        }
      ]
    },
    {
      "cell_type": "code",
      "metadata": {
        "id": "h8GsenhZT-1E",
        "colab_type": "code",
        "colab": {
          "base_uri": "https://localhost:8080/",
          "height": 84
        },
        "outputId": "0c3abfb8-c52d-4caf-bacf-090236fbd8a0"
      },
      "source": [
        "for m in re.finditer(\"\\d+\", \"I am doing each work 58 58 adfads asdfasd asf\"):\n",
        "    print(m.group())\n",
        "    print(\"Index position:\", m.start())"
      ],
      "execution_count": 66,
      "outputs": [
        {
          "output_type": "stream",
          "text": [
            "58\n",
            "Index position: 21\n",
            "58\n",
            "Index position: 24\n"
          ],
          "name": "stdout"
        }
      ]
    },
    {
      "cell_type": "code",
      "metadata": {
        "id": "DglYVD3WUcMm",
        "colab_type": "code",
        "colab": {
          "base_uri": "https://localhost:8080/",
          "height": 34
        },
        "outputId": "30b35972-caa7-492a-fd2e-60cfda5534ed"
      },
      "source": [
        "print(re.sub(\"[ ,.]\", \":\", 'I am, chris, not. just chri'))"
      ],
      "execution_count": 68,
      "outputs": [
        {
          "output_type": "stream",
          "text": [
            "I:am::chris::not::just:chri\n"
          ],
          "name": "stdout"
        }
      ]
    },
    {
      "cell_type": "code",
      "metadata": {
        "id": "X3EE7RgiVAGB",
        "colab_type": "code",
        "colab": {
          "base_uri": "https://localhost:8080/",
          "height": 34
        },
        "outputId": "30e9ba0b-e9b2-4afc-eb07-df7075c8df08"
      },
      "source": [
        "print(re.findall(r\"\\b\\w{3,5}\\b\",\"ab kya jaan loge hamaari? itna kr ke dena hai :(\"))"
      ],
      "execution_count": 70,
      "outputs": [
        {
          "output_type": "stream",
          "text": [
            "['kya', 'jaan', 'loge', 'itna', 'dena', 'hai']\n"
          ],
          "name": "stdout"
        }
      ]
    },
    {
      "cell_type": "code",
      "metadata": {
        "id": "UdgYdafvVbzY",
        "colab_type": "code",
        "colab": {
          "base_uri": "https://localhost:8080/",
          "height": 34
        },
        "outputId": "f4805e44-2ef2-4aab-e3fc-3fdb56e8b3b3"
      },
      "source": [
        "print(re.findall(r\"\\b\\w{4,}\\b\",\"ab kya jaan loge hamaari? itna kr ke dena hai :(\"))"
      ],
      "execution_count": 71,
      "outputs": [
        {
          "output_type": "stream",
          "text": [
            "['jaan', 'loge', 'hamaari', 'itna', 'dena']\n"
          ],
          "name": "stdout"
        }
      ]
    },
    {
      "cell_type": "code",
      "metadata": {
        "id": "K_MTwo-uVoR2",
        "colab_type": "code",
        "colab": {
          "base_uri": "https://localhost:8080/",
          "height": 34
        },
        "outputId": "045d1aae-f1b0-407b-b210-c1662cb07fac"
      },
      "source": [
        "print(re.sub('\\s','',\"This is known as sentence\"))"
      ],
      "execution_count": 72,
      "outputs": [
        {
          "output_type": "stream",
          "text": [
            "Thisisknownassentence\n"
          ],
          "name": "stdout"
        }
      ]
    },
    {
      "cell_type": "code",
      "metadata": {
        "id": "9RDYjpNIVwGU",
        "colab_type": "code",
        "colab": {
          "base_uri": "https://localhost:8080/",
          "height": 34
        },
        "outputId": "ee1f49b7-02f0-42f2-bc02-d7b2df173a90"
      },
      "source": [
        "print(re.sub('[^A-Za-z0-9 ]','',\"This contains everything 4545f54614514312312&^*^&^. but still this is sentence\"))"
      ],
      "execution_count": 73,
      "outputs": [
        {
          "output_type": "stream",
          "text": [
            "This contains everything 4545f54614514312312 but still this is sentence\n"
          ],
          "name": "stdout"
        }
      ]
    },
    {
      "cell_type": "code",
      "metadata": {
        "id": "AzIcg-mwWkGh",
        "colab_type": "code",
        "colab": {
          "base_uri": "https://localhost:8080/",
          "height": 34
        },
        "outputId": "9d57dbb3-a93c-4124-8b2b-bea342437d96"
      },
      "source": [
        "print(re.split('[A-Z]','ThisContainsSomeTextAreYouInterested??'))"
      ],
      "execution_count": 74,
      "outputs": [
        {
          "output_type": "stream",
          "text": [
            "['', 'his', 'ontains', 'ome', 'ext', 're', 'ou', 'nterested??']\n"
          ],
          "name": "stdout"
        }
      ]
    },
    {
      "cell_type": "code",
      "metadata": {
        "id": "aHFcbZq6XBsU",
        "colab_type": "code",
        "colab": {
          "base_uri": "https://localhost:8080/",
          "height": 34
        },
        "outputId": "e3498ee8-07e3-463d-e5b1-becfce0d013c"
      },
      "source": [
        "print(re.compile('Rudra',re.IGNORECASE).sub('Malek',\"This is Rudra\"))"
      ],
      "execution_count": 76,
      "outputs": [
        {
          "output_type": "stream",
          "text": [
            "This is Malek\n"
          ],
          "name": "stdout"
        }
      ]
    },
    {
      "cell_type": "code",
      "metadata": {
        "id": "VhTZdBMrpwj2",
        "colab_type": "code",
        "colab": {
          "base_uri": "https://localhost:8080/",
          "height": 34
        },
        "outputId": "a2cb16c4-f06f-44b8-8f5d-9f6528430081"
      },
      "source": [
        "re.compile(r\"^[0-9]+(\\.[0-9]{1,2})?$\").search('45.12')"
      ],
      "execution_count": 81,
      "outputs": [
        {
          "output_type": "execute_result",
          "data": {
            "text/plain": [
              "<_sre.SRE_Match object; span=(0, 5), match='45.12'>"
            ]
          },
          "metadata": {
            "tags": []
          },
          "execution_count": 81
        }
      ]
    },
    {
      "cell_type": "code",
      "metadata": {
        "id": "zTq6_gW_qWVU",
        "colab_type": "code",
        "colab": {}
      },
      "source": [
        ""
      ],
      "execution_count": null,
      "outputs": []
    }
  ]
}